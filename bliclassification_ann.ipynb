{
 "cells": [
  {
   "cell_type": "code",
   "execution_count": null,
   "metadata": {},
   "outputs": [],
   "source": [
    "import pandas as pd\n",
    "from sklearn.model_selection import train_test_split\n",
    "from sklearn.metrics import accuracy_score, confusion_matrix, f1_score\n",
    "from sklearn.preprocessing import StandardScaler\n",
    "from keras.models import Sequential\n",
    "from keras.layers import Dense\n",
    "import seaborn as sns\n",
    "from numpy import array"
   ]
  },
  {
   "cell_type": "code",
   "execution_count": null,
   "metadata": {},
   "outputs": [],
   "source": [
    "data = pd.read_csv(r\"C:\\Users\\ashis\\Desktop\\PS1\\final_complete_hourly_data_2016_2019.csv\")\n",
    "data = pd.DataFrame(data)\n",
    "data['date'] = pd.to_datetime(data['date'])\n",
    "\n",
    "X = data[['tempr', 'ap', 'ws', 'rh']]\n",
    "y = data['blizzard']\n",
    "\n"
   ]
  },
  {
   "cell_type": "code",
   "execution_count": null,
   "metadata": {},
   "outputs": [],
   "source": [
    "train = int(len(X)*0.8)\n",
    "X_train = X[:train]\n",
    "y_train = y[:train]\n",
    "X_test = X[train:]\n",
    "y_test = y[train:]\n",
    "\n",
    "y_test = array(y_test)\n",
    "\n",
    "ap_test = data['ap'][train:]\n",
    "ap_test = array(ap_test)\n",
    "speed_test = data['ws'][train:]\n",
    "speed_test = array(speed_test)"
   ]
  },
  {
   "cell_type": "code",
   "execution_count": null,
   "metadata": {},
   "outputs": [],
   "source": [
    "scaler = StandardScaler()\n",
    "X_train_scaled = scaler.fit_transform(X_train)\n",
    "X_test_scaled = scaler.transform(X_test)\n"
   ]
  },
  {
   "cell_type": "code",
   "execution_count": null,
   "metadata": {},
   "outputs": [],
   "source": [
    "model = Sequential()\n",
    "model.add(Dense(64, activation='relu', input_shape=(X_train.shape[1],)))\n",
    "model.add(Dense(64, activation='relu'))\n",
    "model.add(Dense(1, activation='sigmoid'))\n"
   ]
  },
  {
   "cell_type": "code",
   "execution_count": null,
   "metadata": {},
   "outputs": [],
   "source": [
    "model.compile(loss='binary_crossentropy', optimizer='adam', metrics=['accuracy'])\n"
   ]
  },
  {
   "cell_type": "code",
   "execution_count": null,
   "metadata": {},
   "outputs": [],
   "source": [
    "model.fit(X_train_scaled, y_train, epochs=200, batch_size=32, verbose=1)"
   ]
  },
  {
   "cell_type": "code",
   "execution_count": null,
   "metadata": {},
   "outputs": [],
   "source": [
    "y_pred_prob = model.predict(X_test_scaled)\n",
    "y_pred = (y_pred_prob > 0.5).astype(int)\n",
    "\n",
    "y_test = array(y_test)\n",
    "\n",
    "y_test"
   ]
  },
  {
   "cell_type": "code",
   "execution_count": null,
   "metadata": {},
   "outputs": [],
   "source": [
    "import matplotlib.pyplot as plt\n",
    "import numpy as np\n",
    "import matplotlib.patches as mpatches\n",
    "\n",
    "res=[]\n",
    "outk = []\n",
    "for i in range(len(y_pred)):\n",
    "    res.append(y_pred[i])\n",
    "res = array(res)\n",
    "res = (res-min(res))/(max(res)-min(res))\n",
    "tn = fn = tp = fp = pos = neg = 0\n",
    "for i in range(len(res)):\n",
    "    if res[i] > 0.5:\n",
    "        res[i] = 1\n",
    "    else:\n",
    "        res[i] = 0\n",
    "\n",
    "for i in range(len(res)):\n",
    "    if y_test[i] == 0:\n",
    "        neg += 1\n",
    "        if res[i] == 0:\n",
    "            outk.append(0)\n",
    "            tn += 1\n",
    "        else:\n",
    "            outk.append(2)\n",
    "            fp += 1\n",
    "    else:\n",
    "        pos += 1\n",
    "        if res[i] == 1:\n",
    "            outk.append(1)\n",
    "            tp += 1\n",
    "        else:\n",
    "            outk.append(3)\n",
    "            fn += 1\n",
    "            \n",
    "print(\"positive: \", pos, \" negative: \", neg, \" tp: \", tp, \" tn: \", tn, \" fn: \", fn, \" fp: \", fp)\n",
    "print(2*tp/(2*tp +fp+fn))\n",
    "\n",
    "\n",
    "\n",
    "outk = outk[-len(y_test):]\n",
    "\n",
    "\n",
    "plt.figure(figsize=(17,6))\n",
    "ax1 = plt.gca()  # Get current axis\n",
    "ax2 = ax1.twinx()  # Create a twin axis\n",
    "\n",
    "# Plot wind speed on the left y-axis\n",
    "ax1.plot(data['date'][-8904:], data['ws'][-8904:], linewidth=0.5, color='blue')\n",
    "ax1.set_ylabel('Wind speed (m/s)')\n",
    "\n",
    "# Plot adjusted air pressure on the right y-axis\n",
    "ax2.plot(data['date'][-8904:], (data['ap'][-8904:]), linewidth=0.5, color='orange')\n",
    "ax2.set_ylabel('Air Pressure(Bar)')\n",
    "\n",
    "# Set the scale of the right y-axis\n",
    "ax2.set_ylim(950, 1000)\n",
    "plt.xlabel(\"Date\", fontweight = 'bold' )\n",
    "\n",
    "ax1.set_xlabel('Date')\n",
    "plt.title(\"Classification of Blizzard using ANN\\n Duration: 2020-01-29 to 2021-02-04\\n Training Duration: 2016-01-01 to 2020-01-29\", fontweight = 'bold', fontsize = 10)\n",
    "for i in range(len(speed_test)):\n",
    "    if outk[i] == 1:\n",
    "        ax1.scatter(data['date'][35750+i], speed_test[i], s=20 ,c='green')\n",
    "    elif outk[i] == 2:\n",
    "        ax1.scatter(data['date'][35750+i], speed_test[i],s=20 ,c='yellow')\n",
    "    elif outk[i] == 3:\n",
    "        ax1.scatter(data['date'][35750+i], speed_test[i], s=20,c='red')\n",
    "\n",
    "\n",
    "pop_a = mpatches.Patch(color='red', label='Missed')\n",
    "pop_b = mpatches.Patch(color='yellow', label='Incorrect')\n",
    "pop_c = mpatches.Patch(color='green', label='Correct')\n",
    "pop_d = mpatches.Patch(color='blue', label='Wind Speed')\n",
    "pop_e = mpatches.Patch(color = 'orange', label = 'Air Pressure')\n",
    "plt.legend(handles=[pop_a,pop_b, pop_c, pop_d,pop_e])\n",
    "plt.savefig(\"Blizzard_ANN.png\", format='png', dpi=800)\n",
    "\n",
    "plt.show()\n"
   ]
  },
  {
   "cell_type": "code",
   "execution_count": null,
   "metadata": {},
   "outputs": [],
   "source": [
    "accuracy = accuracy_score(y_test, y_pred)\n",
    "print(\"Accuracy:\", accuracy)"
   ]
  },
  {
   "cell_type": "code",
   "execution_count": null,
   "metadata": {},
   "outputs": [],
   "source": [
    "conf_matrix = confusion_matrix(y_test, y_pred)\n",
    "print(\"Confusion Matrix:\")\n",
    "print(conf_matrix)"
   ]
  },
  {
   "cell_type": "code",
   "execution_count": null,
   "metadata": {},
   "outputs": [],
   "source": [
    "f1 = f1_score(y_test, y_pred)\n",
    "print(\"F1 Score:\", f1)"
   ]
  }
 ],
 "metadata": {
  "kernelspec": {
   "display_name": "Python 3",
   "language": "python",
   "name": "python3"
  },
  "language_info": {
   "codemirror_mode": {
    "name": "ipython",
    "version": 3
   },
   "file_extension": ".py",
   "mimetype": "text/x-python",
   "name": "python",
   "nbconvert_exporter": "python",
   "pygments_lexer": "ipython3",
   "version": "3.11.4"
  },
  "orig_nbformat": 4
 },
 "nbformat": 4,
 "nbformat_minor": 2
}
